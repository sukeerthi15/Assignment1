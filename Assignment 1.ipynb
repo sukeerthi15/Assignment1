{
 "cells": [
  {
   "cell_type": "code",
   "execution_count": null,
   "id": "0a8306b8",
   "metadata": {},
   "outputs": [],
   "source": [
    "1. In the below elements which of them are values or an expression? eg:- values can be\n",
    "integer or string and expressions will be mathematical operators.\n",
    "*\n",
    "'hello'\n",
    "-87.8\n",
    "-\n",
    "/\n",
    "+\n",
    "6\n",
    "\n",
    "Ans:  -87.8 is floating point integer, & 6 is integer, 'hello' is a string, (*,-,/,+) are mathematical operators."
   ]
  },
  {
   "cell_type": "code",
   "execution_count": null,
   "id": "111120bd",
   "metadata": {},
   "outputs": [],
   "source": [
    "2. What is the difference between string and variable?\n",
    "Ans:  Variable is like a container where you can store any data or information and string is a type of data."
   ]
  },
  {
   "cell_type": "code",
   "execution_count": null,
   "id": "fa4abe50",
   "metadata": {},
   "outputs": [],
   "source": [
    "3. Describe three different data types.\n",
    "Ans:  Integer - It is data type usually in number format like whole numbers.\n",
    "      Float point - It is a data type which is representing in only decimal numbers like 87.6, -35.5, 102.8, -94.5\n",
    "        Boolean - It is a data type which only gives logical values like True and False."
   ]
  },
  {
   "cell_type": "code",
   "execution_count": null,
   "id": "83da5575",
   "metadata": {},
   "outputs": [],
   "source": [
    "4. What is an expression made up of? What do all expressions do?\n",
    "Ans:  An expression is made up of combination of variables, values to produce some result. \n",
    "        Expressions are representation of values."
   ]
  },
  {
   "cell_type": "code",
   "execution_count": null,
   "id": "3a9196fc",
   "metadata": {},
   "outputs": [],
   "source": [
    "5. This assignment statements, like spam = 10. What is the difference between an\n",
    "expression and a statement?\n",
    "Ans:  Expression gives the result or it prints some answer while statement is standalone, it will not give any result."
   ]
  },
  {
   "cell_type": "code",
   "execution_count": null,
   "id": "9a55e56c",
   "metadata": {},
   "outputs": [],
   "source": [
    "6. After running the following code, what does the variable bacon contain?\n",
    "bacon = 22\n",
    "bacon + 1\n",
    "\n",
    "Ans: 23"
   ]
  },
  {
   "cell_type": "code",
   "execution_count": null,
   "id": "a7d22603",
   "metadata": {},
   "outputs": [],
   "source": [
    "7. What should the values of the following two terms be?\n",
    "'spam' + 'spamspam'\n",
    "'spam' * 3\n",
    "\n",
    "Ans: Both terms willgive same answer, i.e. 'spamspamspam'"
   ]
  },
  {
   "cell_type": "code",
   "execution_count": null,
   "id": "47612200",
   "metadata": {},
   "outputs": [],
   "source": [
    "8. Why is eggs a valid variable name while 100 is invalid?\n",
    "Ans: Because varaible name cannot begin with a number."
   ]
  },
  {
   "cell_type": "code",
   "execution_count": null,
   "id": "6828ccac",
   "metadata": {},
   "outputs": [],
   "source": [
    "9. What three functions can be used to get the integer, floating-point number, or string\n",
    "version of a value?\n",
    "Ans:  int()\n",
    "    float()\n",
    "    str()"
   ]
  },
  {
   "cell_type": "code",
   "execution_count": null,
   "id": "3892ce0e",
   "metadata": {},
   "outputs": [],
   "source": [
    "10. Why does this expression cause an error? How can you fix it?\n",
    "'I have eaten' + 99 + 'burritos.'\n",
    "Ans:  It will give error because in python integers cannot add with strings. We can fix this by adding single quotes to 99 like\n",
    "    'I have eaten' + '99' + 'burritos.'"
   ]
  }
 ],
 "metadata": {
  "kernelspec": {
   "display_name": "Python 3 (ipykernel)",
   "language": "python",
   "name": "python3"
  },
  "language_info": {
   "codemirror_mode": {
    "name": "ipython",
    "version": 3
   },
   "file_extension": ".py",
   "mimetype": "text/x-python",
   "name": "python",
   "nbconvert_exporter": "python",
   "pygments_lexer": "ipython3",
   "version": "3.9.7"
  }
 },
 "nbformat": 4,
 "nbformat_minor": 5
}
